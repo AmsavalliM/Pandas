{
 "cells": [
  {
   "cell_type": "code",
   "execution_count": 2,
   "id": "0ba5457c",
   "metadata": {},
   "outputs": [],
   "source": [
    "import pandas as pd\n",
    "import numpy as np\n",
    "import seaborn as sns"
   ]
  },
  {
   "cell_type": "code",
   "execution_count": 3,
   "id": "e6c544c9",
   "metadata": {},
   "outputs": [],
   "source": [
    "import warnings\n",
    "\n",
    "warnings.filterwarnings(\"ignore\")"
   ]
  },
  {
   "cell_type": "code",
   "execution_count": 4,
   "id": "21814310",
   "metadata": {},
   "outputs": [
    {
     "data": {
      "text/html": [
       "<div>\n",
       "<style scoped>\n",
       "    .dataframe tbody tr th:only-of-type {\n",
       "        vertical-align: middle;\n",
       "    }\n",
       "\n",
       "    .dataframe tbody tr th {\n",
       "        vertical-align: top;\n",
       "    }\n",
       "\n",
       "    .dataframe thead th {\n",
       "        text-align: right;\n",
       "    }\n",
       "</style>\n",
       "<table border=\"1\" class=\"dataframe\">\n",
       "  <thead>\n",
       "    <tr style=\"text-align: right;\">\n",
       "      <th></th>\n",
       "      <th>Car</th>\n",
       "      <th>MPG</th>\n",
       "      <th>Cylinders</th>\n",
       "      <th>Displacement</th>\n",
       "      <th>Horsepower</th>\n",
       "      <th>Weight</th>\n",
       "      <th>Acceleration</th>\n",
       "      <th>Model</th>\n",
       "      <th>Origin</th>\n",
       "    </tr>\n",
       "  </thead>\n",
       "  <tbody>\n",
       "    <tr>\n",
       "      <th>0</th>\n",
       "      <td>Chevrolet Chevelle Malibu</td>\n",
       "      <td>18.0</td>\n",
       "      <td>8.0</td>\n",
       "      <td>307.0</td>\n",
       "      <td>130.0</td>\n",
       "      <td>3504</td>\n",
       "      <td>12.0</td>\n",
       "      <td>70</td>\n",
       "      <td>US</td>\n",
       "    </tr>\n",
       "    <tr>\n",
       "      <th>1</th>\n",
       "      <td>Buick Skylark 320</td>\n",
       "      <td>15.0</td>\n",
       "      <td>8.0</td>\n",
       "      <td>350.0</td>\n",
       "      <td>165.0</td>\n",
       "      <td>3693</td>\n",
       "      <td>11.5</td>\n",
       "      <td>70</td>\n",
       "      <td>US</td>\n",
       "    </tr>\n",
       "    <tr>\n",
       "      <th>3</th>\n",
       "      <td>AMC Rebel SST</td>\n",
       "      <td>16.0</td>\n",
       "      <td>8.0</td>\n",
       "      <td>304.0</td>\n",
       "      <td>150.0</td>\n",
       "      <td>3433</td>\n",
       "      <td>12.0</td>\n",
       "      <td>70</td>\n",
       "      <td>US</td>\n",
       "    </tr>\n",
       "    <tr>\n",
       "      <th>4</th>\n",
       "      <td>Ford Torino</td>\n",
       "      <td>17.0</td>\n",
       "      <td>8.0</td>\n",
       "      <td>302.0</td>\n",
       "      <td>140.0</td>\n",
       "      <td>3449</td>\n",
       "      <td>10.5</td>\n",
       "      <td>70</td>\n",
       "      <td>US</td>\n",
       "    </tr>\n",
       "    <tr>\n",
       "      <th>5</th>\n",
       "      <td>Ford Galaxie 500</td>\n",
       "      <td>15.0</td>\n",
       "      <td>8.0</td>\n",
       "      <td>429.0</td>\n",
       "      <td>198.0</td>\n",
       "      <td>4341</td>\n",
       "      <td>10.0</td>\n",
       "      <td>70</td>\n",
       "      <td>US</td>\n",
       "    </tr>\n",
       "  </tbody>\n",
       "</table>\n",
       "</div>"
      ],
      "text/plain": [
       "                         Car   MPG  Cylinders  Displacement  Horsepower  \\\n",
       "0  Chevrolet Chevelle Malibu  18.0        8.0         307.0       130.0   \n",
       "1          Buick Skylark 320  15.0        8.0         350.0       165.0   \n",
       "3              AMC Rebel SST  16.0        8.0         304.0       150.0   \n",
       "4                Ford Torino  17.0        8.0         302.0       140.0   \n",
       "5           Ford Galaxie 500  15.0        8.0         429.0       198.0   \n",
       "\n",
       "   Weight  Acceleration  Model Origin  \n",
       "0    3504          12.0     70     US  \n",
       "1    3693          11.5     70     US  \n",
       "3    3433          12.0     70     US  \n",
       "4    3449          10.5     70     US  \n",
       "5    4341          10.0     70     US  "
      ]
     },
     "execution_count": 4,
     "metadata": {},
     "output_type": "execute_result"
    }
   ],
   "source": [
    "df1=pd.read_csv('cars.csv')\n",
    "df1.dropna(inplace=True)\n",
    "df1.head()"
   ]
  },
  {
   "cell_type": "code",
   "execution_count": 10,
   "id": "9861baec",
   "metadata": {},
   "outputs": [
    {
     "data": {
      "text/plain": [
       "array([  0.,   0.,   0.,   0.,   0.,   0.,  46.,  46.,  48.,  48.,  48.,\n",
       "        48.,  49.,  52.,  52.,  52.,  52.,  53.,  53.,  54.,  58.,  58.,\n",
       "        60.,  60.,  60.,  60.,  60.,  61.,  62.,  62.,  63.,  63.,  63.,\n",
       "        64.,  65.,  65.,  65.,  65.,  65.,  65.,  65.,  65.,  65.,  65.,\n",
       "        66.,  67.,  67.,  67.,  67.,  67.,  67.,  67.,  67.,  67.,  67.,\n",
       "        67.,  67.,  68.,  68.,  68.,  68.,  68.,  68.,  69.,  69.,  69.,\n",
       "        70.,  70.,  70.,  70.,  70.,  70.,  70.,  70.,  70.,  70.,  70.,\n",
       "        70.,  71.,  71.,  71.,  71.,  71.,  72.,  72.,  72.,  72.,  72.,\n",
       "        72.,  74.,  74.,  74.,  75.,  75.,  75.,  75.,  75.,  75.,  75.,\n",
       "        75.,  75.,  75.,  75.,  75.,  75.,  75.,  76.,  76.,  76.,  76.,\n",
       "        77.,  78.,  78.,  78.,  78.,  78.,  78.,  79.,  79.,  80.,  80.,\n",
       "        80.,  80.,  80.,  80.,  80.,  81.,  81.,  82.,  83.,  83.,  83.,\n",
       "        83.,  84.,  84.,  84.,  84.,  84.,  84.,  85.,  85.,  85.,  85.,\n",
       "        85.,  85.,  85.,  85.,  85.,  86.,  86.,  86.,  86.,  86.,  87.,\n",
       "        87.,  88.,  88.,  88.,  88.,  88.,  88.,  88.,  88.,  88.,  88.,\n",
       "        88.,  88.,  88.,  88.,  88.,  88.,  88.,  88.,  88.,  89.,  90.,\n",
       "        90.,  90.,  90.,  90.,  90.,  90.,  90.,  90.,  90.,  90.,  90.,\n",
       "        90.,  90.,  90.,  90.,  90.,  90.,  90.,  90.,  91.,  92.,  92.,\n",
       "        92.,  92.,  92.,  92.,  93.,  94.,  95.,  95.,  95.,  95.,  95.,\n",
       "        95.,  95.,  95.,  95.,  95.,  95.,  95.,  95.,  95.,  96.,  96.,\n",
       "        96.,  97.,  97.,  97.,  97.,  97.,  97.,  97.,  97.,  98.,  98.,\n",
       "       100., 100., 100., 100., 100., 100., 100., 100., 100., 100., 100.,\n",
       "       100., 100., 100., 100., 100., 100., 102., 103., 105., 105., 105.,\n",
       "       105., 105., 105., 105., 105., 105., 105., 105., 105., 107., 108.,\n",
       "       110., 110., 110., 110., 110., 110., 110., 110., 110., 110., 110.,\n",
       "       110., 110., 110., 110., 110., 110., 110., 110., 112., 112., 112.,\n",
       "       113., 115., 115., 115., 115., 115., 115., 116., 120., 120., 120.,\n",
       "       120., 122., 125., 125., 125., 129., 129., 130., 130., 130., 130.,\n",
       "       130., 132., 133., 135., 137., 138., 139., 139., 140., 140., 140.,\n",
       "       140., 140., 140., 140., 140., 142., 145., 145., 145., 145., 145.,\n",
       "       145., 145., 148., 149., 150., 150., 150., 150., 150., 150., 150.,\n",
       "       150., 150., 150., 150., 150., 150., 150., 150., 150., 150., 150.,\n",
       "       150., 150., 150., 152., 153., 153., 153., 155., 155., 158., 160.,\n",
       "       160., 165., 165., 165., 165., 167., 170., 170., 170., 170., 170.,\n",
       "       175., 175., 175., 175., 175., 175., 175., 180., 180., 180., 180.,\n",
       "       180., 190., 190., 190., 193., 198., 198., 200., 208., 210., 215.,\n",
       "       215., 220., 225., 225., 225., 230.])"
      ]
     },
     "execution_count": 10,
     "metadata": {},
     "output_type": "execute_result"
    }
   ],
   "source": [
    "data = np.sort(df1['Horsepower'])\n",
    "data"
   ]
  },
  {
   "cell_type": "code",
   "execution_count": 11,
   "id": "94ee5a6b",
   "metadata": {},
   "outputs": [
    {
     "name": "stdout",
     "output_type": "stream",
     "text": [
      "mean of the dataset is 103.0\n",
      "std. deviation is 40.10124003988304\n"
     ]
    }
   ],
   "source": [
    "mean = np.mean(data)\n",
    "std = np.std(data)\n",
    "print('mean of the dataset is', mean)\n",
    "print('std. deviation is', std)"
   ]
  },
  {
   "cell_type": "code",
   "execution_count": 12,
   "id": "39b2560a",
   "metadata": {},
   "outputs": [],
   "source": [
    "### Calculate Z score. If Z score>3, print it as an outlier."
   ]
  },
  {
   "cell_type": "code",
   "execution_count": 14,
   "id": "0b5b8c82",
   "metadata": {},
   "outputs": [
    {
     "name": "stdout",
     "output_type": "stream",
     "text": [
      "outlier in dataset is [225.0, 225.0, 225.0, 230.0]\n"
     ]
    }
   ],
   "source": [
    "limit = 3\n",
    "outlier = []\n",
    "for i in data:\n",
    "    z = (i-mean)/std\n",
    "    if z > limit:\n",
    "        outlier.append(i)\n",
    "print('outlier in dataset is', outlier)"
   ]
  },
  {
   "cell_type": "code",
   "execution_count": null,
   "id": "23a97019",
   "metadata": {},
   "outputs": [],
   "source": []
  },
  {
   "cell_type": "code",
   "execution_count": null,
   "id": "f4d83fbb",
   "metadata": {},
   "outputs": [],
   "source": []
  }
 ],
 "metadata": {
  "kernelspec": {
   "display_name": "Python 3 (ipykernel)",
   "language": "python",
   "name": "python3"
  },
  "language_info": {
   "codemirror_mode": {
    "name": "ipython",
    "version": 3
   },
   "file_extension": ".py",
   "mimetype": "text/x-python",
   "name": "python",
   "nbconvert_exporter": "python",
   "pygments_lexer": "ipython3",
   "version": "3.9.12"
  }
 },
 "nbformat": 4,
 "nbformat_minor": 5
}
